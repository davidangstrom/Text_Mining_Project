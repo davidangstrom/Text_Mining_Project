{
 "metadata": {
  "language_info": {
   "codemirror_mode": {
    "name": "ipython",
    "version": 3
   },
   "file_extension": ".py",
   "mimetype": "text/x-python",
   "name": "python",
   "nbconvert_exporter": "python",
   "pygments_lexer": "ipython3",
   "version": "3.9.2-final"
  },
  "orig_nbformat": 2,
  "kernelspec": {
   "name": "python3",
   "display_name": "Python 3.9.2 64-bit",
   "metadata": {
    "interpreter": {
     "hash": "6d134f0a1e39ce62bdda8ae98605b9ea521def2940b1f7979f2741755ea94aa4"
    }
   }
  }
 },
 "nbformat": 4,
 "nbformat_minor": 2,
 "cells": [
  {
   "cell_type": "code",
   "execution_count": 8,
   "metadata": {},
   "outputs": [],
   "source": [
    "import pandas as pd\n",
    "import numpy as np\n",
    "import spacy\n",
    "import en_core_web_sm\n",
    "import en_core_web_lg\n",
    "from word2number import w2n\n",
    "from num2words import num2words\n",
    "\n",
    "data = pd.read_csv('boardgames1.csv')\n",
    "data.drop(data.columns.difference(['name', 'description', 'boardgamecategory']), 1, inplace = True) #Removing all irrelevant fields.\n",
    "#data = data.sample(1000) # scale down data by a lot while testing\n",
    "data[\"boardgamecategory\"] = data[\"boardgamecategory\"].apply(lambda s: s.replace(\"'\", \"\").strip(\"[]\"))\n",
    "\n",
    "nlp = en_core_web_lg.load()"
   ]
  },
  {
   "cell_type": "code",
   "execution_count": 9,
   "metadata": {},
   "outputs": [
    {
     "output_type": "execute_result",
     "data": {
      "text/plain": [
       "'8-28 is a press your luck card game. At the start of the game, each player gets one card they look at, then place face down in front of them. The cards have values ranging from 1 to 11. During the course of the game, the players may draw one random additional card per round to place face up in front of them. As long as any player still wants cards, gems are added to a pile. The round ends only when no one wants to take any more cards. Then, all cards are revealed and the two players whose cards are closest to a total of 8 and 28 respectively, without going over, share the gems among them.'"
      ]
     },
     "metadata": {},
     "execution_count": 9
    }
   ],
   "source": [
    "pd.options.display.max_colwidth = 190\n",
    "data['description'][16177]"
   ]
  },
  {
   "cell_type": "code",
   "execution_count": 10,
   "metadata": {},
   "outputs": [],
   "source": [
    "#Functions for pre processing text\n",
    "def preprocess(text):\n",
    "    l = list()\n",
    "    for token in nlp(text):\n",
    "        if (not token.is_stop and token.pos_ != 'PUNCT' and token.has_vector or token.pos_ == 'NUM'):  #Spacy currently considers '3', etc. to be stop words.\n",
    "            if(token.pos_ == 'NUM'):\n",
    "                l.append(token.text)\n",
    "            else:\n",
    "                l.append(token.lemma_)\n",
    "    return l\n",
    "\n"
   ]
  },
  {
   "cell_type": "code",
   "execution_count": 11,
   "metadata": {},
   "outputs": [
    {
     "output_type": "execute_result",
     "data": {
      "text/plain": [
       "['game', '3', 'player']"
      ]
     },
     "metadata": {},
     "execution_count": 11
    }
   ],
   "source": [
    "test = preprocess('game. i.s for 3. players')\n",
    "test #Looks good enough"
   ]
  },
  {
   "cell_type": "code",
   "execution_count": 12,
   "metadata": {},
   "outputs": [],
   "source": [
    "from sklearn.feature_extraction.text import TfidfVectorizer\n",
    "\n",
    "vec = TfidfVectorizer(tokenizer = preprocess)\n",
    "X = vec.fit_transform(data[\"description\"])"
   ]
  },
  {
   "cell_type": "code",
   "execution_count": 13,
   "metadata": {},
   "outputs": [
    {
     "output_type": "execute_result",
     "data": {
      "text/plain": [
       "(20000, 41439)"
      ]
     },
     "metadata": {},
     "execution_count": 13
    }
   ],
   "source": [
    "X.shape"
   ]
  },
  {
   "cell_type": "code",
   "execution_count": 55,
   "metadata": {},
   "outputs": [],
   "source": [
    "from sklearn.neighbors import NearestNeighbors\n",
    "from sklearn.metrics.pairwise import cosine_similarity\n",
    "import heapq\n",
    "def search(query, num_desc = 10):\n",
    "    '''\n",
    "        Returns the app descriptions most similar \n",
    "        (euclidean distance) to the given \n",
    "        query as a Pandas DataFrame. The cosine similarity between\n",
    "    '''\n",
    "    # Process the query and retrieve the tfidf values of the terms\n",
    "    processed_query = vec.transform([query])\n",
    "    \n",
    "    # Create a NearestNeighbors class with 10 return values and fit the model\n",
    "    nbrs = NearestNeighbors(n_neighbors=num_desc).fit(X)\n",
    "    \n",
    "    # Process the query, returning the 10 nearest neighbors (distance and index)\n",
    "    d,idx = nbrs.kneighbors(processed_query)\n",
    "    similarities = []\n",
    "    #print(idx)\n",
    "    for i in idx[0]:\n",
    "        similarities.append(nlp(str(' '.join(preprocess(data['description'][i])))).similarity(nlp(' '.join(preprocess(query)))))\n",
    "\n",
    "    id = sorted(range(len(similarities)), key = lambda sub: similarities[sub])[-num_desc:]\n",
    "    id.reverse()\n",
    "    print(heapq.nlargest(num_desc, similarities))\n",
    "\n",
    "    # Return the dataframe of the 10 closest neighbors\n",
    "    return data.iloc[idx[0], 0:3]"
   ]
  },
  {
   "cell_type": "code",
   "execution_count": 56,
   "metadata": {},
   "outputs": [
    {
     "output_type": "stream",
     "name": "stdout",
     "text": [
      "[0.891976565611905, 0.8918167334523603, 0.8891947208796324, 0.8855931906435223, 0.8852603540708922, 0.8851729991686306, 0.8783443941623279, 0.8642902569397176, 0.8511697300259623, 0.8506648226384232]\n"
     ]
    },
    {
     "output_type": "execute_result",
     "data": {
      "text/plain": [
       "                             name  \\\n",
       "16177                        8-28   \n",
       "11240                    Go\\/Stop   \n",
       "11314              Spiky Dastards   \n",
       "14129                   Star Plus   \n",
       "6699                      7 Ate 9   \n",
       "11292                 Actionworks   \n",
       "7584                  Escalation!   \n",
       "16840  The Walking Dead Card Game   \n",
       "9842                  Olympicards   \n",
       "10715               The Bark Side   \n",
       "\n",
       "                                   boardgamecategory  \\\n",
       "16177                            Bluffing, Card Game   \n",
       "11240                            Bluffing, Card Game   \n",
       "11314      Action / Dexterity, Party Game, Real-time   \n",
       "14129                                      Card Game   \n",
       "6699                         Card Game, Math, Number   \n",
       "11292            Card Game, Industry / Manufacturing   \n",
       "7584                                Card Game, Humor   \n",
       "16840  Card Game, Movies / TV / Radio theme, Zombies   \n",
       "9842                               Card Game, Sports   \n",
       "10715                                      Card Game   \n",
       "\n",
       "                                                                                                                                                                                         description  \n",
       "16177  8-28 is a press your luck card game. At the start of the game, each player gets one card they look at, then place face down in front of them. The cards have values ranging from 1 to 11. ...  \n",
       "11240  Go/Stop is a quick game that you try to obtain the highest point card (1-10). Everyone start with the set of identical cards (5 go cards and 1 stop card). For every point card flipped fr...  \n",
       "11314  Spiky Dastards has 5 little figures that are so cute, you'll want to capture them all. But be careful, they're well protected! Split the deck of 60 cards into 2 piles and reveal the top ...  \n",
       "14129  In Star Plus, players want to rid themselves of cards, but they can't just play anything that they want. No, the cards much be played in turn from 1-12 into the center of the table, then...  \n",
       "6699   7 Ate 9 is a quick-playing card game in everyone wants to rid themselves of cards as quickly as possible &amp;mdash; but you can't play just any card you want! Each card features a large...  \n",
       "11292  A fast-paced Industrial-Revolution-themed card game.  Cards represent different kinds of actions in a factory.  Players try to collect cards of their action type while using cards to cha...  \n",
       "7584   Players in Escalation! want to collect as few cards as possible. Each player starts with a hand of six cards from a deck that contains cards numbered 1-13, three jokers that can be worth...  \n",
       "16840  The Walking Dead Card Game, based on Wolfgang Kramer's 6 nimmt!, features the same basic gameplay as that card game while adding six character cards and two modes of play: Survival and H...  \n",
       "9842   Olympicards has the player athletes compete in nine different events, with competition taking place via card play. Each sport has its own rules for playing cards, so sometimes you'll wan...  \n",
       "10715  In The Bark Side, you can be a bad doggie as much as you want &amp;mdash; as long as you're not the one caught in the end.  The game consists of a sixty-card deck, with five copies each ...  "
      ],
      "text/html": "<div>\n<style scoped>\n    .dataframe tbody tr th:only-of-type {\n        vertical-align: middle;\n    }\n\n    .dataframe tbody tr th {\n        vertical-align: top;\n    }\n\n    .dataframe thead th {\n        text-align: right;\n    }\n</style>\n<table border=\"1\" class=\"dataframe\">\n  <thead>\n    <tr style=\"text-align: right;\">\n      <th></th>\n      <th>name</th>\n      <th>boardgamecategory</th>\n      <th>description</th>\n    </tr>\n  </thead>\n  <tbody>\n    <tr>\n      <th>16177</th>\n      <td>8-28</td>\n      <td>Bluffing, Card Game</td>\n      <td>8-28 is a press your luck card game. At the start of the game, each player gets one card they look at, then place face down in front of them. The cards have values ranging from 1 to 11. ...</td>\n    </tr>\n    <tr>\n      <th>11240</th>\n      <td>Go\\/Stop</td>\n      <td>Bluffing, Card Game</td>\n      <td>Go/Stop is a quick game that you try to obtain the highest point card (1-10). Everyone start with the set of identical cards (5 go cards and 1 stop card). For every point card flipped fr...</td>\n    </tr>\n    <tr>\n      <th>11314</th>\n      <td>Spiky Dastards</td>\n      <td>Action / Dexterity, Party Game, Real-time</td>\n      <td>Spiky Dastards has 5 little figures that are so cute, you'll want to capture them all. But be careful, they're well protected! Split the deck of 60 cards into 2 piles and reveal the top ...</td>\n    </tr>\n    <tr>\n      <th>14129</th>\n      <td>Star Plus</td>\n      <td>Card Game</td>\n      <td>In Star Plus, players want to rid themselves of cards, but they can't just play anything that they want. No, the cards much be played in turn from 1-12 into the center of the table, then...</td>\n    </tr>\n    <tr>\n      <th>6699</th>\n      <td>7 Ate 9</td>\n      <td>Card Game, Math, Number</td>\n      <td>7 Ate 9 is a quick-playing card game in everyone wants to rid themselves of cards as quickly as possible &amp;amp;mdash; but you can't play just any card you want! Each card features a large...</td>\n    </tr>\n    <tr>\n      <th>11292</th>\n      <td>Actionworks</td>\n      <td>Card Game, Industry / Manufacturing</td>\n      <td>A fast-paced Industrial-Revolution-themed card game.  Cards represent different kinds of actions in a factory.  Players try to collect cards of their action type while using cards to cha...</td>\n    </tr>\n    <tr>\n      <th>7584</th>\n      <td>Escalation!</td>\n      <td>Card Game, Humor</td>\n      <td>Players in Escalation! want to collect as few cards as possible. Each player starts with a hand of six cards from a deck that contains cards numbered 1-13, three jokers that can be worth...</td>\n    </tr>\n    <tr>\n      <th>16840</th>\n      <td>The Walking Dead Card Game</td>\n      <td>Card Game, Movies / TV / Radio theme, Zombies</td>\n      <td>The Walking Dead Card Game, based on Wolfgang Kramer's 6 nimmt!, features the same basic gameplay as that card game while adding six character cards and two modes of play: Survival and H...</td>\n    </tr>\n    <tr>\n      <th>9842</th>\n      <td>Olympicards</td>\n      <td>Card Game, Sports</td>\n      <td>Olympicards has the player athletes compete in nine different events, with competition taking place via card play. Each sport has its own rules for playing cards, so sometimes you'll wan...</td>\n    </tr>\n    <tr>\n      <th>10715</th>\n      <td>The Bark Side</td>\n      <td>Card Game</td>\n      <td>In The Bark Side, you can be a bad doggie as much as you want &amp;amp;mdash; as long as you're not the one caught in the end.  The game consists of a sixty-card deck, with five copies each ...</td>\n    </tr>\n  </tbody>\n</table>\n</div>"
     },
     "metadata": {},
     "execution_count": 56
    }
   ],
   "source": [
    "search(\"I want a card game\")"
   ]
  },
  {
   "cell_type": "code",
   "execution_count": 16,
   "metadata": {},
   "outputs": [],
   "source": [
    "def keywords(text, n=10):\n",
    "    '''\n",
    "    Returns a list with the n (default value: 10) most salient keywords from the specified text, \n",
    "    as measured by their tf-idf value relative to the collection of app descriptions.\n",
    "    '''   \n",
    "    # Process the query using the TfidfVectorizer \n",
    "    # and place the contents into a numpy.array\n",
    "    processed_query = vec.transform([text]).toarray()\n",
    "\n",
    "    # Get yet another numpy array of the descriptions words.\n",
    "    words = np.array(vec.get_feature_names())\n",
    "    \n",
    "    # Get the indexes and sort them based on the tfidf value.\n",
    "    sorted_tfidf = np.argsort(processed_query[0])[::-1]    \n",
    "    return words[sorted_tfidf[:n]]"
   ]
  },
  {
   "cell_type": "code",
   "execution_count": 17,
   "metadata": {},
   "outputs": [],
   "source": [
    "#insert index of sought after row\n",
    "#print(keywords(data[\"description\"][1676]))"
   ]
  },
  {
   "cell_type": "code",
   "execution_count": 18,
   "metadata": {},
   "outputs": [
    {
     "output_type": "stream",
     "name": "stdout",
     "text": [
      "                    value     term\n16955  1.1363853187072985     game\n28895  1.2367855035837183   player\n26967  1.7171825420604985      one\n8598    1.728824356953138     card\n28885   1.741757369925364     play\n8       1.763297806989476        &\n38189  1.9964667751034817     turn\n0      10.210390370726225    \u00031796\n1      10.210390370726225      \u0003be\n2      10.210390370726225  \u0003enough\n                  value     term\n41366  9.80492526261806      zun\n41367  9.80492526261806     zuni\n41382  9.80492526261806      ~10\n41394  9.80492526261806  édition\n41398  9.80492526261806        а\n41400  9.80492526261806      для\n41401  9.80492526261806        и\n41403  9.80492526261806       на\n41407  9.80492526261806        ―\n41438  9.80492526261806        ？\n"
     ]
    }
   ],
   "source": [
    "# Extract the idf value from the TfidfVectorizor and \n",
    "# connect it to the feature names present.\n",
    "terms = np.column_stack([vec.idf_, vec.get_feature_names()])\n",
    "\n",
    "# Create a DataFrame with column headers\n",
    "terms = pd.DataFrame(terms, columns=['value','term'])\n",
    "\n",
    "# Sort the values by BOTH columns, \n",
    "# where the idf are ordered in a ascending manner  (1 -> 2)\n",
    "# and the terms are ordered in an ascending manner (a -> b)\n",
    "# place the ordered terms into terms by inplace=True.\n",
    "terms.sort_values(by=['value', 'term'], ascending=(True,True), inplace=True)\n",
    "\n",
    "print(terms[:10])\n",
    "print(terms[-10:])"
   ]
  },
  {
   "cell_type": "code",
   "execution_count": 19,
   "metadata": {
    "tags": []
   },
   "outputs": [],
   "source": [
    "\"\"\"Creating a list of all categories present in the column 'boardgamecategory'\"\"\"\n",
    "categories_l = [l.strip('[]') for l in data['boardgamecategory']]\n",
    "categories = set()\n",
    "for s in categories_l:\n",
    "    s = s.split(\",\")\n",
    "    for cat in s:\n",
    "        categories.add(cat.replace(\"'\", \"\").strip())\n",
    "\n",
    "real_categories = [cat.strip() for cat in open(\"categories.txt\")]\n",
    "categories = categories and real_categories\n",
    "\n",
    "#Modify dataframe to include hot 1s for matching categories\n",
    "for cat in categories:\n",
    "    l = []\n",
    "    for index, row in data.iterrows():\n",
    "        if cat in row['boardgamecategory']:\n",
    "            l.append(1)\n",
    "        else:\n",
    "            l.append(0)\n",
    "    data[cat] = l"
   ]
  },
  {
   "cell_type": "code",
   "execution_count": 20,
   "metadata": {},
   "outputs": [
    {
     "output_type": "execute_result",
     "data": {
      "text/plain": [
       "0        0\n",
       "1        0\n",
       "2        0\n",
       "3        0\n",
       "4        0\n",
       "        ..\n",
       "19995    0\n",
       "19996    0\n",
       "19997    0\n",
       "19998    0\n",
       "19999    0\n",
       "Name: Prehistoric, Length: 20000, dtype: int64"
      ]
     },
     "metadata": {},
     "execution_count": 20
    }
   ],
   "source": [
    "data['Prehistoric']"
   ]
  },
  {
   "cell_type": "code",
   "execution_count": 21,
   "metadata": {},
   "outputs": [],
   "source": [
    "def most_similar(x, n = 10):\n",
    "    numpyx = np.asarray([x])\n",
    "    m_s = nlp.vocab.vectors.most_similar(numpyx, n=n)\n",
    "    ret = [ nlp.vocab[key] for key in m_s[0][0] ]\n",
    "    return ret"
   ]
  },
  {
   "cell_type": "code",
   "execution_count": 22,
   "metadata": {},
   "outputs": [],
   "source": [
    "from spacy.tokens import Doc\n",
    "sent1 = nlp(\"Solving murder. Detectives\")\n",
    "sent2 = nlp(\"Childrens Game, Deduction\")\n",
    "sent3 = nlp(\"Deduction, Dice, Murder/Mystery\")\n",
    "\n",
    "sim1 = sent1.similarity(sent2) #Similarity uses the cosine similarity using word vectors\n",
    "sim2 = sent1.similarity(sent3) "
   ]
  },
  {
   "cell_type": "code",
   "execution_count": 23,
   "metadata": {},
   "outputs": [],
   "source": [
    "from sklearn.base import TransformerMixin, BaseEstimator\n",
    "class emb_transformer(BaseEstimator, TransformerMixin):\n",
    "    def __init__(self):\n",
    "        print(\"init called\\n\")\n",
    "\n",
    "    def fit(self, X, y = None):\n",
    "        return self\n",
    "\n",
    "    def transform(self, X, y = None):\n",
    "        print(\"transform called\\n\")\n",
    "        return np.array([nlp(' '.join(preprocess(sent))).vector for sent in X])\n"
   ]
  },
  {
   "cell_type": "code",
   "execution_count": 24,
   "metadata": {},
   "outputs": [
    {
     "output_type": "stream",
     "name": "stdout",
     "text": [
      "init called\n\n"
     ]
    }
   ],
   "source": [
    "from sklearn.pipeline import Pipeline\n",
    "from sklearn.multiclass import OneVsRestClassifier\n",
    "from sklearn.tree import DecisionTreeClassifier\n",
    "from sklearn.model_selection import train_test_split\n",
    "from sklearn.metrics import accuracy_score\n",
    "\n",
    "mr_pipe = Pipeline([('emb_t', emb_transformer()), ('clf', OneVsRestClassifier(DecisionTreeClassifier()))])\n",
    "\n",
    "train, test = train_test_split(data, test_size = 0.33)\n",
    "\n",
    "X_train = train.description\n",
    "X_test = test.description"
   ]
  },
  {
   "cell_type": "code",
   "execution_count": 25,
   "metadata": {},
   "outputs": [
    {
     "output_type": "execute_result",
     "data": {
      "text/plain": [
       "'\\nfor category in categories:\\n    print(\\'category {}\\'.format(category))\\n    mr_pipe.fit(X_train, train[category])\\n    # classifier.fit(X_train, train[category])\\n    pred = classifier.predict(X_test)\\n    print(\"Accuracy: {}\".format(accuracy_score(test[category], pred)))\\n'"
      ]
     },
     "metadata": {},
     "execution_count": 25
    }
   ],
   "source": [
    "#Classifier for seeing which categories are easiest to recognize. Takes VERY long.\n",
    "\"\"\"\n",
    "for category in categories:\n",
    "    print('category {}'.format(category))\n",
    "    mr_pipe.fit(X_train, train[category])\n",
    "    # classifier.fit(X_train, train[category])\n",
    "    pred = classifier.predict(X_test)\n",
    "    print(\"Accuracy: {}\".format(accuracy_score(test[category], pred)))\n",
    "\"\"\""
   ]
  },
  {
   "cell_type": "code",
   "execution_count": 26,
   "metadata": {},
   "outputs": [],
   "source": [
    "processed = []\n",
    "for row in data['description']:\n",
    "    processed.append(nlp(' '.join(preprocess(row))))\n"
   ]
  },
  {
   "cell_type": "code",
   "execution_count": 27,
   "metadata": {},
   "outputs": [
    {
     "output_type": "execute_result",
     "data": {
      "text/plain": [
       "<20000x41439 sparse matrix of type '<class 'numpy.int64'>'\n",
       "\twith 1317480 stored elements in Compressed Sparse Row format>"
      ]
     },
     "metadata": {},
     "execution_count": 27
    }
   ],
   "source": [
    "from sklearn.feature_extraction.text import CountVectorizer\n",
    "\n",
    "count_vec = CountVectorizer(tokenizer = preprocess)\n",
    "count_vec.fit_transform(data[\"description\"])\n"
   ]
  },
  {
   "cell_type": "code",
   "execution_count": 28,
   "metadata": {},
   "outputs": [],
   "source": [
    "def smooth_inverse(sent, emb_size = 300, a = 1e-3):\n",
    "    sent_set = []\n",
    "    vs = np.zeros(emb_size)\n",
    "    sent_length = len(sent)\n",
    "    #print(sent[0])\n",
    "    for word in sent:\n",
    "        try:\n",
    "            a_value = a / (a + count_vec.vocabulary_[word]) # word_count\n",
    "            # a_value = a / (a + vec.idf_[vec.vocabulary_[word]]) # TF_IDF\n",
    "        except:\n",
    "            a_value = a / (a + 1) # Which value to put if the word is not in corpus? \n",
    "        vs = np.add(vs, np.multiply(a_value, word.vector))\n",
    "\n",
    "        vs = np.divide(vs, sent_length)\n",
    "        sent_set.append(vs)\n",
    "    return sent_set\n",
    "\n",
    "#https://blogs.nlmatics.com/nlp/sentence-embeddings/2020/08/07/Smooth-Inverse-Frequency-Frequency-(SIF)-Embeddings-in-Golang.html\n",
    "processed_SIF = []\n",
    "for sent in processed:\n",
    "    processed_SIF.append(sum(vector for vector in smooth_inverse(sent)) / len(sent))\n",
    "\n",
    "\n"
   ]
  },
  {
   "cell_type": "code",
   "execution_count": 29,
   "metadata": {},
   "outputs": [
    {
     "output_type": "stream",
     "name": "stdout",
     "text": [
      "One ONE oNE onE one ONe OnE EVen even EVEN Even WAY Way way wAy but BuT But buT BUT BUt bUt bUT that ThAT thAT tHAT THat tHat ThaT thaT tHaT THAT THAt thAt ThAt That could COuld COULD Could IT It it iT İt there THere There THERE Make MAKE mAke make MAke theY THey THEY They they RATHER rather Rather Because because BECAUSE BEcause becAuse WHEN When when WHen Same same SAme SAME SAMe ENOUGH enough Enough jUst JUst jUST JUSt JUST Just JuSt just iF IF if If İf so So SO sO WOuld Would would wOuld WOULD Kind KIND kind well WELL Well WEll Thing THing thing THING GOING GOing going Going though Though THough THOUGH where WHERe WHere Where WHERE Once ONce ONCE once PUT Put put might Might MIGHT MIght able Able ABLE whatever WHatever WHATEVER Whatever WhAT what WHAT WHAt What wHat wHaT whaT wHAT WHat whAt WhAt WhaT whAT HoW how HOw HOW hOw hoW hOW How GET GEt gEt gET get GeT Get ANOTHER ANother Another another STILL STill still Still Better betteR BETTER better actually ACTUALLY Actually ACtually REALLY Really reAlly REally really REALLy SOme Some some SOME SOmething something someTHING Something SOMETHING SOMEthing Only ONLY only ONly yOU you YoU YOu yOu yoU You YOU sure SUre SURE Sure want wAnt Want WANT can CAN CaN cAn Can CAn cAN MUCH Much MUCh much NOthing NOTHING Nothing nothing MAKING making Making NOt nOt NoT NOT noT nOT Not not OUT Out ouT OUt out idea Idea IDEA then Then THEN THen SImply Simply simply SIMPLY EIther either Either EITHER PERHAPS Perhaps perhaps them THEM theM Them possible POSSIBLE Possible TaKe take TAKE tAke Take Be bE be BE UP Up uP up NEED Need need good Good GOOD GOod gOOD Maybe MAYBE MAybe maybe Far FAR far Reason reason REASON HOwever however However HOWEVER never Never NEver NEVER PLACE place Place EVER Ever ever TiME TIme time Time tIme TIME EVERY EVery Every every TURN Turn turn bring Bring BRING ones Ones ONES Meant MEANT meant TOo TOO Too ToO too toO lIke LIKE LIke lIkE Like lIKE liKe like LiKE LiKe will WIll WILL WiLL Will anything ANything Anything ANYthing ANYTHING point POINT Point POSSIBLY Possibly possibly THINGS THings things Things SHOULD SHould Should should SUPPOSED supposed Supposed as aS As AS WHICH WHich Which which GIve GIVE give Give ANy Any any ANY trying TRYING Trying Sort sort SORT MOVE Move move Always ALWAYS ALWAYs alwAys always ALways Keep KEEP keep else ELSE Else Probably PROBABLY PRobably probably chance CHANCE Chance fact Fact FACT OWN own Own INSTEAD INstead instead Instead end EnD End END Different different DIFFERENT BAsically BASICALLY basically Basically we wE WE We righT right RIght RIGHT Right gO go GO Go haVe havE HAve have Have hAve HAVE HaVe hAVE Obviously OBviously OBVIOUSLY obviously Imagine imagine IMAGINE Mind mind MIND MInd YET yet Yet everyone EVERYONE EVeryone EVERYone Everyone WHOLE Whole whole THIs THiS thiS THIS ThIS ThIs thIS tHIS THis This tHiS ThiS this tHis thIs EVERYthing EVerything everything EVERYTHING Everything WhY wHY whY wHy why WHY Why WHy bad Bad BaD BAD BAd 'Ll 'LL 'll ALTHOUGH Although ALthough although whIle WHILE while While WHile MATTER Matter matter let LET LeT LEt Let almost ALMOST Almost ALmost first FIRST FIrst First Especially especially ESPECIALLY THe The thE tHE tHe ThE THE the thought Thought THought THOUGHT COme Come come COME EXACTLY Exactly exactly SOMEONE SOmeone someONE someone SOMEone Someone WAYS Ways ways n'T N'T n't N't again Again AGain aGAIN AGAIN little LIttle Little LITTLE THose Those THOSE those particular Particular PARTICULAR BEING being Being Both BotH both BOth BOTH thinK think Think THINK thInk THink Putting putting PUTTING Quite QUITE quite GAME Game gAme GAme game Certainly certainly CERTAINLY INTO Into into REST Rest rest know knOw Know KNOW KNow best BeSt BEst bEst Best BEST Likely likely LIKELY Already ALREADY already ALready MOST Most MOst MOSt MoST most Somehow SOMEHOW somehow given Given GIVEN Anyone ANyone anyone ANYONE ANYone surely Surely SURELY OTHER OTher other Other sense Sense SENSE greAt great GREAT Great GReat Certain CERTAIN certain Their THeir their THEIR SEEMS Seems seems wanted WANTED Wanted withOUT WIthout Without WITHOUT without EXPECT expect Expect FEW Few few Whether WHETHER whether Anyway anyway ANYway ANYWAY ANyway Before before BEFORE than Than THAN thAn difficult DIFFICULT Difficult does Does DOES DOes NeXT NEXT NeXt Next NExt next To tO TO to Makes MAkes makes MAKES Back BACK bacK BAck bAck back regardless REGARDLESS Regardless AlL ALl aLl all ALL All aLL REALIZE Realize realize least Least LEAST BIG BIg BiG Big big GUESS Guess guess He he hE HE hand Hand HAND play PLay Play PLAY wonder WONDER Wonder giving GIVING Giving SEEM Seem seem impossible Impossible IMPOSSIBLE DOUBT doubt Doubt Pretty PRETTY pretty PRetty Definitely DEFINITELY definitely VEry VERy Very very VERY LOOK look Look unless UNLESS UNless Unless goes GOES Goes Happens HAPPENS happens HOPING hoping Hoping decide Decide DECIDE Many MAny MANY many HAPPEN happen Happen START Start start Having HAVING HAving having COMES comes Comes HOpefully Hopefully HOPEFULLY hopefully Half half HALF DiD dID DID dId DId did Did hardly HARDLY Hardly thus THUS Thus Hold hold HOLD Means MEANS means TRy try Try TRY MAde mAde made MADE Made FIND Find find FInd ALONE Alone alone each EACH Each DOWN Down down Seeing SEEING seeing cA Ca CA ca GETTING Getting getting Hope HOPE hope HOpe MEAN mean Mean Must must MUST See SEE see eventually EVENTUALLY Eventually COMING Coming coming Break BREAK break TWO two Two lot Lot LOT LoT Apart apart APART SOMEtimes SOMETIMES SOmetimes Sometimes sometimes forget FORGET Forget whenever Whenever WHENEVER OBVIOUS Obvious obvious Thinking THinking thinking THINKING example EXAMPLE Example long Long LONG knowing Knowing KNOWING HIM him Him REmember remember Remember REMEMBER REMember world WORLD WOrld worLd World NOW NoW nOW now noW Now NOw nOw CHANGE Change\n"
     ]
    }
   ],
   "source": [
    "from sklearn.decomposition import TruncatedSVD\n",
    "from scipy.spatial import distance\n",
    "from sklearn.metrics.pairwise import cosine_similarity\n",
    "import numpy\n",
    "import math\n",
    "N_pc_rem = 1\n",
    "pca = TruncatedSVD(N_pc_rem, n_iter = 7, random_state = 0)\n",
    "sent_emb = np.array(processed_SIF)\n",
    "pca.fit(sent_emb)\n",
    "\n",
    "# Print which words are close to the first principle component\n",
    "print(' '.join(w.text for w in most_similar(pca.components_[0], 1000)))\n",
    "\n",
    "if N_pc_rem == 1:\n",
    "    updated_embs = sent_emb - sent_emb.dot(pca.components_.transpose()) * pca.components_\n",
    "else:\n",
    "    updated_embs = sent_emb - sent_emb.dot(pca.components_.transpose()).dot(pca.components_)"
   ]
  },
  {
   "cell_type": "code",
   "execution_count": 57,
   "metadata": {},
   "outputs": [],
   "source": [
    "#Only using cosine similarity gives rather bad results with longer sentences as words with no real meaning counts as much as more relevant ones.\n",
    "#Solution, smooth inverse frequency!\n",
    "\n",
    "def search_emb(query, num_desc = 10):\n",
    "    \"\"\"\n",
    "    search_emb utilizes the doc.similarity function from spacy.\n",
    "    It utilizes the cosince similarity between the word embeddings of the two sentences\n",
    "    \"\"\"\n",
    "\n",
    "    processed_query = nlp(' '.join(preprocess(query)))\n",
    "    #print(processed_query)\n",
    "    similarities = []\n",
    "    for row in processed:\n",
    "        similarities.append(processed_query.similarity(row))\n",
    "\n",
    "    idx = sorted(range(len(similarities)), key = lambda sub: similarities[sub])[-num_desc:]\n",
    "    idx.reverse()\n",
    "\n",
    "    print(heapq.nlargest(num_desc, similarities))\n",
    "    return data.iloc[idx, 0:3]"
   ]
  },
  {
   "cell_type": "code",
   "execution_count": 58,
   "metadata": {},
   "outputs": [],
   "source": [
    "def search_emb_2(query, num_desc = 10):\n",
    "    \"\"\"\n",
    "    search_emb_2 utilizes the first part of SIF (adding a weight to each embedding based on their word count).\n",
    "    This reduces the importance of words which are used more often such as \"I\" \"can\" \"and\".\n",
    "    \"\"\"\n",
    "    processed_query = nlp(' '.join(preprocess(query)))\n",
    "    obj1_SIF = sum(vector for vector in smooth_inverse(processed_query)) / len(processed_query)\n",
    "\n",
    "    similarities = []\n",
    "    for row in processed_SIF:\n",
    "        similarities.append(cosine_similarity(obj1_SIF.reshape(1, -1), row.reshape(1, -1))[0][0])\n",
    "\n",
    "    idx = sorted(range(len(similarities)), key = lambda sub: similarities[sub])[-num_desc:]\n",
    "    idx.reverse()\n",
    "    print(heapq.nlargest(num_desc, similarities))\n",
    "    return data.iloc[idx, 0:3]"
   ]
  },
  {
   "cell_type": "code",
   "execution_count": 59,
   "metadata": {},
   "outputs": [],
   "source": [
    "def search_emb_3(query, num_desc = 10):\n",
    "\n",
    "    \"\"\"\n",
    "    search_emb_3 utilizes the first and second part of SIF.adding a weight to each embedding based on their word count\n",
    "    and removing the first principle component.\n",
    "    \"\"\"\n",
    "    processed_query = nlp(' '.join(preprocess(query)))\n",
    "\n",
    "    obj1_SIF = sum(vector for vector in smooth_inverse(processed_query)) / len(processed_query)\n",
    "    if N_pc_rem == 1:\n",
    "        obj1_SIF = obj1_SIF - obj1_SIF.dot(pca.components_.transpose()) * pca.components_\n",
    "    else:\n",
    "        obj1_SIF = obj1_SIF - obj1_SIF.dot(pca.components_.transpose()).dot(pca.components_)\n",
    "\n",
    "    similarities = []\n",
    "    for row in updated_embs:\n",
    "        similarities.append(cosine_similarity(obj1_SIF.reshape(1, -1), row.reshape(1, -1))[0][0])\n",
    "\n",
    "    idx = sorted(range(len(similarities)), key = lambda sub: similarities[sub])[-num_desc:]\n",
    "    idx.reverse()\n",
    "    print(heapq.nlargest(num_desc, similarities))\n",
    "    return data.iloc[idx, 0:3]"
   ]
  },
  {
   "cell_type": "code",
   "execution_count": 81,
   "metadata": {},
   "outputs": [
    {
     "output_type": "stream",
     "name": "stdout",
     "text": [
      "[0.9281944646361496, 0.9266791010474814, 0.9263521943836778, 0.9231815772788711, 0.9125682343507695, 0.9122952427361442, 0.9040733206705154, 0.9026389795862912, 0.8847076722684155, 0.8487108665031285]\n"
     ]
    },
    {
     "output_type": "execute_result",
     "data": {
      "text/plain": [
       "                         name                 boardgamecategory  \\\n",
       "17198              Word Power        Card Game, Dice, Word Game   \n",
       "18534              Archimedes                 Abstract Strategy   \n",
       "18869           Winkeladvokat                 Abstract Strategy   \n",
       "8060                     Mana                 Abstract Strategy   \n",
       "12500         Kings' Struggle  Card Game, Medieval, Negotiation   \n",
       "17300                 Colorio                 Abstract Strategy   \n",
       "3441                    Rondo         Abstract Strategy, Number   \n",
       "491                   Tokaido                            Travel   \n",
       "9153                 Futboard                            Sports   \n",
       "19950  The Ugly Duckling Game                    Childrens Game   \n",
       "\n",
       "                                                                                                                                                                                         description  \n",
       "17198  Players take turns rolling and moving around a circular board (a la Monopoly) in an attempt to &amp;quot;publish&amp;quot; 10 books or obtain $100,000.  Each player starts with $20,000 a...  \n",
       "18534  This is a strategy game for 2-3 players. It takes place on a 6 sided game board with pieces moving on the triangles. Each player has 4 pawns in the form of dice. The triangular fields of...  \n",
       "18869                                                                                                          Winkeladvokat is an abstract game for 2 to 4 players.  Re-implemented as:      Cabale  \n",
       "8060   Abstract strategy game for 2 players. Players try to capture the opponent's Damyo with their own Damyo or one of their 5 Ronins.  Game contains one 6&amp;times;6 Leather Board (12 single...  \n",
       "12500  Welcome to Kings' Struggle, a negotiation-focused card game with elements of trick-taking and set collection. The game is mechanically simple, with each player playing just one card per ...  \n",
       "17300  Colorio starts with players using plastic tokens to cover the colored spaces on the 5x5 game board. On each turn, a player must remove three tokens from the board, then either remove all...  \n",
       "3441   In the abstract strategy game Rondo, players try to score as many points as possible by placing tokens on numbered spaces on the game board, with the board consisting of two concentric r...  \n",
       "491    In Tokaido, each player is a traveler crossing the &amp;quot;East sea road&amp;quot;, one of the most magnificent roads of Japan. While traveling, you will meet people, taste fine meals,...  \n",
       "9153   Check the video! https://www.facebook.com/futboardgame/videos/143893042968456/  The ultimate tactical Soccer Board Game from Brazil. For everyone who doesn't like the sport, but is in th...  \n",
       "19950  The most basic of children's games.  Spin the spinner and move your pawn the number of spaces.  If you land on a draw a card space, you draw a card and move forward the number of spaces ...  "
      ],
      "text/html": "<div>\n<style scoped>\n    .dataframe tbody tr th:only-of-type {\n        vertical-align: middle;\n    }\n\n    .dataframe tbody tr th {\n        vertical-align: top;\n    }\n\n    .dataframe thead th {\n        text-align: right;\n    }\n</style>\n<table border=\"1\" class=\"dataframe\">\n  <thead>\n    <tr style=\"text-align: right;\">\n      <th></th>\n      <th>name</th>\n      <th>boardgamecategory</th>\n      <th>description</th>\n    </tr>\n  </thead>\n  <tbody>\n    <tr>\n      <th>17198</th>\n      <td>Word Power</td>\n      <td>Card Game, Dice, Word Game</td>\n      <td>Players take turns rolling and moving around a circular board (a la Monopoly) in an attempt to &amp;amp;quot;publish&amp;amp;quot; 10 books or obtain $100,000.  Each player starts with $20,000 a...</td>\n    </tr>\n    <tr>\n      <th>18534</th>\n      <td>Archimedes</td>\n      <td>Abstract Strategy</td>\n      <td>This is a strategy game for 2-3 players. It takes place on a 6 sided game board with pieces moving on the triangles. Each player has 4 pawns in the form of dice. The triangular fields of...</td>\n    </tr>\n    <tr>\n      <th>18869</th>\n      <td>Winkeladvokat</td>\n      <td>Abstract Strategy</td>\n      <td>Winkeladvokat is an abstract game for 2 to 4 players.  Re-implemented as:      Cabale</td>\n    </tr>\n    <tr>\n      <th>8060</th>\n      <td>Mana</td>\n      <td>Abstract Strategy</td>\n      <td>Abstract strategy game for 2 players. Players try to capture the opponent's Damyo with their own Damyo or one of their 5 Ronins.  Game contains one 6&amp;amp;times;6 Leather Board (12 single...</td>\n    </tr>\n    <tr>\n      <th>12500</th>\n      <td>Kings' Struggle</td>\n      <td>Card Game, Medieval, Negotiation</td>\n      <td>Welcome to Kings' Struggle, a negotiation-focused card game with elements of trick-taking and set collection. The game is mechanically simple, with each player playing just one card per ...</td>\n    </tr>\n    <tr>\n      <th>17300</th>\n      <td>Colorio</td>\n      <td>Abstract Strategy</td>\n      <td>Colorio starts with players using plastic tokens to cover the colored spaces on the 5x5 game board. On each turn, a player must remove three tokens from the board, then either remove all...</td>\n    </tr>\n    <tr>\n      <th>3441</th>\n      <td>Rondo</td>\n      <td>Abstract Strategy, Number</td>\n      <td>In the abstract strategy game Rondo, players try to score as many points as possible by placing tokens on numbered spaces on the game board, with the board consisting of two concentric r...</td>\n    </tr>\n    <tr>\n      <th>491</th>\n      <td>Tokaido</td>\n      <td>Travel</td>\n      <td>In Tokaido, each player is a traveler crossing the &amp;amp;quot;East sea road&amp;amp;quot;, one of the most magnificent roads of Japan. While traveling, you will meet people, taste fine meals,...</td>\n    </tr>\n    <tr>\n      <th>9153</th>\n      <td>Futboard</td>\n      <td>Sports</td>\n      <td>Check the video! https://www.facebook.com/futboardgame/videos/143893042968456/  The ultimate tactical Soccer Board Game from Brazil. For everyone who doesn't like the sport, but is in th...</td>\n    </tr>\n    <tr>\n      <th>19950</th>\n      <td>The Ugly Duckling Game</td>\n      <td>Childrens Game</td>\n      <td>The most basic of children's games.  Spin the spinner and move your pawn the number of spaces.  If you land on a draw a card space, you draw a card and move forward the number of spaces ...</td>\n    </tr>\n  </tbody>\n</table>\n</div>"
     },
     "metadata": {},
     "execution_count": 81
    }
   ],
   "source": [
    "search(\"I am looking for a board game about space, where players take turns deciding their actions. The game should involve strategy and negotiation. The number of players should range from 2-4.\")"
   ]
  },
  {
   "cell_type": "code",
   "execution_count": 75,
   "metadata": {},
   "outputs": [
    {
     "output_type": "stream",
     "name": "stdout",
     "text": [
      "[0.929711298472263, 0.9271717866393533, 0.9253764377972572, 0.9231193104732136, 0.9229101898397469, 0.9228614841318387, 0.9220134080483673, 0.9207456837499431, 0.9198028808957559, 0.9196671802905498]\n"
     ]
    },
    {
     "output_type": "execute_result",
     "data": {
      "text/plain": [
       "                                                          name  \\\n",
       "14594                                       Miskatonic Madness   \n",
       "12296                                             Meeple Quest   \n",
       "10836                                            Zombie Cinema   \n",
       "15730                                                     Mees   \n",
       "2511                              Adventure Games  The Dungeon   \n",
       "15889  Heroes of Might & Magic IV Collectible Card & Tile Game   \n",
       "13835                                               Dragonfire   \n",
       "4928                                       The Sorcerer's Cave   \n",
       "12256                               Hemloch  Vault of Darkness   \n",
       "11187                                                Dreamwars   \n",
       "\n",
       "                                                                  boardgamecategory  \\\n",
       "14594                                                          Horror, Print & Play   \n",
       "12296                              Adventure, Exploration, Fantasy, Fighting, Humor   \n",
       "10836                                                               Horror, Zombies   \n",
       "15730                                       Adventure, Card Game, Dice, Novel-based   \n",
       "2511                                                      KOSMOS, 999 Games, Zvezda   \n",
       "15889  Card Game, Collectible Components, Exploration, Fantasy, Medieval, Mythology   \n",
       "13835                                                            Adventure, Fantasy   \n",
       "4928                                                Card Game, Exploration, Fantasy   \n",
       "12256                                                            Card Game, Fantasy   \n",
       "11187                       Adventure, Fantasy, Horror, Miniatures, Science Fiction   \n",
       "\n",
       "                                                                                                                                                                                         description  \n",
       "14594  This game is set in H.P. Lovecraft's fictional Miskatonic University. The two players take on the roles of either the Cultists out to wake one of the elder gods, or the Investigators try...  \n",
       "12296  This is a fantasy boardgame with true dungeon exploring mechanics. It has dinamically generated dungeons which will be completely different from game to game. In it we are little meeples...  \n",
       "10836  Zombie Cinema is a boardgame for 3-6 players, Ages 12 and up. One game takes 2-3 hours, all told. Learning the game takes ten minutes. The game is a cooperative storytelling exercise whe...  \n",
       "15730  Adventure game &amp;quot;The man who knew snakewords&amp;quot; are on a very hazy border of card games and board games. The game has 25 landscape cards, which create the game of risks an...  \n",
       "2511   Explore places, combine items, and experience stories in Adventure Games, a series of co-operative games from German publisher KOSMOS. In each of these titles, players are presented with...  \n",
       "15889  The Heroes of Might &amp;amp; Magic IV Collectible Card &amp;amp; Tile Game allows you to play all of the exciting creatures and characters found in the classic video game series by Ubis...  \n",
       "13835  Dragonfire was an attempt by Target/Heartbreaker to entice young adults into roleplaying, by means of devising a crossover between a roleplaying game and a fantasy miniatures boardgame s...  \n",
       "4928   A fantasy-based game, using cards to create an underground lair that players explore -&amp;ndash; cooperatively or competitively -- using bands of characters, in an attempt to leave with...  \n",
       "12256  Hemloch is a peculiar city; its nights and days last for decades, and control of the city swings wildly during the weeks leading up to the change.  The Great Houses, using Minions as ark...  \n",
       "11187  From the publisher:  Dreamwars is a 1 to 8 players boardgame set in an original steampunk fantasy setting with a strong horror vibe, where technology coexists side by side with the ancie...  "
      ],
      "text/html": "<div>\n<style scoped>\n    .dataframe tbody tr th:only-of-type {\n        vertical-align: middle;\n    }\n\n    .dataframe tbody tr th {\n        vertical-align: top;\n    }\n\n    .dataframe thead th {\n        text-align: right;\n    }\n</style>\n<table border=\"1\" class=\"dataframe\">\n  <thead>\n    <tr style=\"text-align: right;\">\n      <th></th>\n      <th>name</th>\n      <th>boardgamecategory</th>\n      <th>description</th>\n    </tr>\n  </thead>\n  <tbody>\n    <tr>\n      <th>14594</th>\n      <td>Miskatonic Madness</td>\n      <td>Horror, Print &amp; Play</td>\n      <td>This game is set in H.P. Lovecraft's fictional Miskatonic University. The two players take on the roles of either the Cultists out to wake one of the elder gods, or the Investigators try...</td>\n    </tr>\n    <tr>\n      <th>12296</th>\n      <td>Meeple Quest</td>\n      <td>Adventure, Exploration, Fantasy, Fighting, Humor</td>\n      <td>This is a fantasy boardgame with true dungeon exploring mechanics. It has dinamically generated dungeons which will be completely different from game to game. In it we are little meeples...</td>\n    </tr>\n    <tr>\n      <th>10836</th>\n      <td>Zombie Cinema</td>\n      <td>Horror, Zombies</td>\n      <td>Zombie Cinema is a boardgame for 3-6 players, Ages 12 and up. One game takes 2-3 hours, all told. Learning the game takes ten minutes. The game is a cooperative storytelling exercise whe...</td>\n    </tr>\n    <tr>\n      <th>15730</th>\n      <td>Mees</td>\n      <td>Adventure, Card Game, Dice, Novel-based</td>\n      <td>Adventure game &amp;amp;quot;The man who knew snakewords&amp;amp;quot; are on a very hazy border of card games and board games. The game has 25 landscape cards, which create the game of risks an...</td>\n    </tr>\n    <tr>\n      <th>2511</th>\n      <td>Adventure Games  The Dungeon</td>\n      <td>KOSMOS, 999 Games, Zvezda</td>\n      <td>Explore places, combine items, and experience stories in Adventure Games, a series of co-operative games from German publisher KOSMOS. In each of these titles, players are presented with...</td>\n    </tr>\n    <tr>\n      <th>15889</th>\n      <td>Heroes of Might &amp; Magic IV Collectible Card &amp; Tile Game</td>\n      <td>Card Game, Collectible Components, Exploration, Fantasy, Medieval, Mythology</td>\n      <td>The Heroes of Might &amp;amp;amp; Magic IV Collectible Card &amp;amp;amp; Tile Game allows you to play all of the exciting creatures and characters found in the classic video game series by Ubis...</td>\n    </tr>\n    <tr>\n      <th>13835</th>\n      <td>Dragonfire</td>\n      <td>Adventure, Fantasy</td>\n      <td>Dragonfire was an attempt by Target/Heartbreaker to entice young adults into roleplaying, by means of devising a crossover between a roleplaying game and a fantasy miniatures boardgame s...</td>\n    </tr>\n    <tr>\n      <th>4928</th>\n      <td>The Sorcerer's Cave</td>\n      <td>Card Game, Exploration, Fantasy</td>\n      <td>A fantasy-based game, using cards to create an underground lair that players explore -&amp;amp;ndash; cooperatively or competitively -- using bands of characters, in an attempt to leave with...</td>\n    </tr>\n    <tr>\n      <th>12256</th>\n      <td>Hemloch  Vault of Darkness</td>\n      <td>Card Game, Fantasy</td>\n      <td>Hemloch is a peculiar city; its nights and days last for decades, and control of the city swings wildly during the weeks leading up to the change.  The Great Houses, using Minions as ark...</td>\n    </tr>\n    <tr>\n      <th>11187</th>\n      <td>Dreamwars</td>\n      <td>Adventure, Fantasy, Horror, Miniatures, Science Fiction</td>\n      <td>From the publisher:  Dreamwars is a 1 to 8 players boardgame set in an original steampunk fantasy setting with a strong horror vibe, where technology coexists side by side with the ancie...</td>\n    </tr>\n  </tbody>\n</table>\n</div>"
     },
     "metadata": {},
     "execution_count": 75
    }
   ],
   "source": [
    "search_emb(\"I want a game surrounding fictional litterature. I would prefer one involving elements of horror or lovecraftian themes. The game should take place in a mysterious city where creatures lurk around every corner. The game time should be about 4 hours. My board game club consists of 5 people and the game should therefore contain at least that many.\")"
   ]
  },
  {
   "cell_type": "code",
   "execution_count": 80,
   "metadata": {
    "tags": []
   },
   "outputs": [
    {
     "output_type": "stream",
     "name": "stdout",
     "text": [
      "[0.9297734154943217, 0.927213197045355, 0.925381415916226, 0.9232471274646198, 0.9228373236239817, 0.9228246248061416, 0.9219602010866329, 0.9207907243434806, 0.9197634597660574, 0.9196410174273439]\n"
     ]
    },
    {
     "output_type": "execute_result",
     "data": {
      "text/plain": [
       "                                                          name  \\\n",
       "14594                                       Miskatonic Madness   \n",
       "12296                                             Meeple Quest   \n",
       "10836                                            Zombie Cinema   \n",
       "15730                                                     Mees   \n",
       "2511                              Adventure Games  The Dungeon   \n",
       "15889  Heroes of Might & Magic IV Collectible Card & Tile Game   \n",
       "13835                                               Dragonfire   \n",
       "4928                                       The Sorcerer's Cave   \n",
       "12256                               Hemloch  Vault of Darkness   \n",
       "10123                                                 Ghoulash   \n",
       "\n",
       "                                                                  boardgamecategory  \\\n",
       "14594                                                          Horror, Print & Play   \n",
       "12296                              Adventure, Exploration, Fantasy, Fighting, Humor   \n",
       "10836                                                               Horror, Zombies   \n",
       "15730                                       Adventure, Card Game, Dice, Novel-based   \n",
       "2511                                                      KOSMOS, 999 Games, Zvezda   \n",
       "15889  Card Game, Collectible Components, Exploration, Fantasy, Medieval, Mythology   \n",
       "13835                                                            Adventure, Fantasy   \n",
       "4928                                                Card Game, Exploration, Fantasy   \n",
       "12256                                                            Card Game, Fantasy   \n",
       "10123                              Exploration, Fantasy, Horror, Maze, Print & Play   \n",
       "\n",
       "                                                                                                                                                                                         description  \n",
       "14594  This game is set in H.P. Lovecraft's fictional Miskatonic University. The two players take on the roles of either the Cultists out to wake one of the elder gods, or the Investigators try...  \n",
       "12296  This is a fantasy boardgame with true dungeon exploring mechanics. It has dinamically generated dungeons which will be completely different from game to game. In it we are little meeples...  \n",
       "10836  Zombie Cinema is a boardgame for 3-6 players, Ages 12 and up. One game takes 2-3 hours, all told. Learning the game takes ten minutes. The game is a cooperative storytelling exercise whe...  \n",
       "15730  Adventure game &amp;quot;The man who knew snakewords&amp;quot; are on a very hazy border of card games and board games. The game has 25 landscape cards, which create the game of risks an...  \n",
       "2511   Explore places, combine items, and experience stories in Adventure Games, a series of co-operative games from German publisher KOSMOS. In each of these titles, players are presented with...  \n",
       "15889  The Heroes of Might &amp;amp; Magic IV Collectible Card &amp;amp; Tile Game allows you to play all of the exciting creatures and characters found in the classic video game series by Ubis...  \n",
       "13835  Dragonfire was an attempt by Target/Heartbreaker to entice young adults into roleplaying, by means of devising a crossover between a roleplaying game and a fantasy miniatures boardgame s...  \n",
       "4928   A fantasy-based game, using cards to create an underground lair that players explore -&amp;ndash; cooperatively or competitively -- using bands of characters, in an attempt to leave with...  \n",
       "12256  Hemloch is a peculiar city; its nights and days last for decades, and control of the city swings wildly during the weeks leading up to the change.  The Great Houses, using Minions as ark...  \n",
       "10123  Ghoulash is a two-player strategy game played entirely on paper, using specially designed Game Charts. Think of Ghoulash as a miniature RPG in which each player is the other&amp;rsquo;s ...  "
      ],
      "text/html": "<div>\n<style scoped>\n    .dataframe tbody tr th:only-of-type {\n        vertical-align: middle;\n    }\n\n    .dataframe tbody tr th {\n        vertical-align: top;\n    }\n\n    .dataframe thead th {\n        text-align: right;\n    }\n</style>\n<table border=\"1\" class=\"dataframe\">\n  <thead>\n    <tr style=\"text-align: right;\">\n      <th></th>\n      <th>name</th>\n      <th>boardgamecategory</th>\n      <th>description</th>\n    </tr>\n  </thead>\n  <tbody>\n    <tr>\n      <th>14594</th>\n      <td>Miskatonic Madness</td>\n      <td>Horror, Print &amp; Play</td>\n      <td>This game is set in H.P. Lovecraft's fictional Miskatonic University. The two players take on the roles of either the Cultists out to wake one of the elder gods, or the Investigators try...</td>\n    </tr>\n    <tr>\n      <th>12296</th>\n      <td>Meeple Quest</td>\n      <td>Adventure, Exploration, Fantasy, Fighting, Humor</td>\n      <td>This is a fantasy boardgame with true dungeon exploring mechanics. It has dinamically generated dungeons which will be completely different from game to game. In it we are little meeples...</td>\n    </tr>\n    <tr>\n      <th>10836</th>\n      <td>Zombie Cinema</td>\n      <td>Horror, Zombies</td>\n      <td>Zombie Cinema is a boardgame for 3-6 players, Ages 12 and up. One game takes 2-3 hours, all told. Learning the game takes ten minutes. The game is a cooperative storytelling exercise whe...</td>\n    </tr>\n    <tr>\n      <th>15730</th>\n      <td>Mees</td>\n      <td>Adventure, Card Game, Dice, Novel-based</td>\n      <td>Adventure game &amp;amp;quot;The man who knew snakewords&amp;amp;quot; are on a very hazy border of card games and board games. The game has 25 landscape cards, which create the game of risks an...</td>\n    </tr>\n    <tr>\n      <th>2511</th>\n      <td>Adventure Games  The Dungeon</td>\n      <td>KOSMOS, 999 Games, Zvezda</td>\n      <td>Explore places, combine items, and experience stories in Adventure Games, a series of co-operative games from German publisher KOSMOS. In each of these titles, players are presented with...</td>\n    </tr>\n    <tr>\n      <th>15889</th>\n      <td>Heroes of Might &amp; Magic IV Collectible Card &amp; Tile Game</td>\n      <td>Card Game, Collectible Components, Exploration, Fantasy, Medieval, Mythology</td>\n      <td>The Heroes of Might &amp;amp;amp; Magic IV Collectible Card &amp;amp;amp; Tile Game allows you to play all of the exciting creatures and characters found in the classic video game series by Ubis...</td>\n    </tr>\n    <tr>\n      <th>13835</th>\n      <td>Dragonfire</td>\n      <td>Adventure, Fantasy</td>\n      <td>Dragonfire was an attempt by Target/Heartbreaker to entice young adults into roleplaying, by means of devising a crossover between a roleplaying game and a fantasy miniatures boardgame s...</td>\n    </tr>\n    <tr>\n      <th>4928</th>\n      <td>The Sorcerer's Cave</td>\n      <td>Card Game, Exploration, Fantasy</td>\n      <td>A fantasy-based game, using cards to create an underground lair that players explore -&amp;amp;ndash; cooperatively or competitively -- using bands of characters, in an attempt to leave with...</td>\n    </tr>\n    <tr>\n      <th>12256</th>\n      <td>Hemloch  Vault of Darkness</td>\n      <td>Card Game, Fantasy</td>\n      <td>Hemloch is a peculiar city; its nights and days last for decades, and control of the city swings wildly during the weeks leading up to the change.  The Great Houses, using Minions as ark...</td>\n    </tr>\n    <tr>\n      <th>10123</th>\n      <td>Ghoulash</td>\n      <td>Exploration, Fantasy, Horror, Maze, Print &amp; Play</td>\n      <td>Ghoulash is a two-player strategy game played entirely on paper, using specially designed Game Charts. Think of Ghoulash as a miniature RPG in which each player is the other&amp;amp;rsquo;s ...</td>\n    </tr>\n  </tbody>\n</table>\n</div>"
     },
     "metadata": {},
     "execution_count": 80
    }
   ],
   "source": [
    "search_emb_2(\"I want a game surrounding fictional litterature. I would prefer one involving elements of horror or lovecraftian themes. The game should take place in a mysterious city where creatures lurk around every corner. The game time should be about 4 hours. My board game club consists of 5 people and the game should therefore contain at least that many.\")"
   ]
  },
  {
   "cell_type": "code",
   "execution_count": 70,
   "metadata": {},
   "outputs": [
    {
     "output_type": "stream",
     "name": "stdout",
     "text": [
      "[0.686434116076394, 0.666483262600067, 0.6404878743219872, 0.6386173277625903, 0.6359292739114899, 0.6358728828876444, 0.6328409893045794, 0.6283285942319716, 0.6115431989555778, 0.6058230352951807]\n"
     ]
    },
    {
     "output_type": "execute_result",
     "data": {
      "text/plain": [
       "                                       name  \\\n",
       "19779  The War to End All Wars  World War 1   \n",
       "4621       World at War  The Untold Stories   \n",
       "8945                  The Great Pacific War   \n",
       "15485                          Pearl Harbor   \n",
       "13540                     Twilight Squabble   \n",
       "4414        Grand Illusion  Mirage of Glory   \n",
       "12087                      Viva Espa\\u00f1a   \n",
       "5090    Empires in America (second edition)   \n",
       "8618                       Patton in Flames   \n",
       "10021                             Trafalgar   \n",
       "\n",
       "                                       boardgamecategory  \\\n",
       "19779  Dice, Economic, Educational, Wargame, World War I   \n",
       "4621                             Modern Warfare, Wargame   \n",
       "8945                               Wargame, World War II   \n",
       "15485                              Wargame, World War II   \n",
       "13540      Card Game, Modern Warfare, Political, Wargame   \n",
       "4414                                Wargame, World War I   \n",
       "12087                                 Civil War, Wargame   \n",
       "5090        Age of Reason, American Indian Wars, Wargame   \n",
       "8618                               Wargame, World War II   \n",
       "10021    Dice, Miniatures, Napoleonic, Nautical, Wargame   \n",
       "\n",
       "                                                                                                                                                                                         description  \n",
       "19779  The War to End All Wars is a World War I territorial strategy game. A variant of the Axis &amp;amp; Allies board game system, it offers an easy to play D10 based combat system and territ...  \n",
       "4621   World at War: The Untold Stories recounts the struggle of Warsaw Pact and NATO allies previously not covered in World at War modules. Included are the battles of the Canadians, East Germ...  \n",
       "8945   Description from the publisher:  Great Pacific War is Avalanche Press' strategic-level game of the War in the Pacific. The game covers the entire war from December 1941 through 1946 and ...  \n",
       "15485  &amp;quot;The War Against Japan, 1941-1945.&amp;quot;  &amp;quot;A game-simulation of the Pacific and Asian theaters of World War II, at the strategic level. Simulated are the major poli...  \n",
       "13540  Relive the entire Cold War in ten minutes with Twilight Squabble!  In 1947, the superpowers of the United States of America and the Soviet Union began a new sort of conflict, a struggle ...  \n",
       "4414   The German invasion of France and Belgium in 1914, the opening campaign of World War One, is one of the most dramatic in history: the famed German Schlieffen Plan, the infamous French Pl...  \n",
       "12087  VIVA ESPA&amp;Ntilde;A is a wargame,or historical simulation, that combines gaming techniques with historical data to duplicate conditions as they were at the time the actual events were...  \n",
       "5090   Empires in America (EIA) is a solitaire States of Siege&amp;trade; Series game of the conflict in North America between the French and British in the mid-18th century. This war, known lo...  \n",
       "8618   It's 1945; Germany and Japan are going down in flames.  But the Western Allies and the Soviets will soon find themselves at war...  It's 1948; rising tensions between the Western Allies ...  \n",
       "10021  Trafalgar Naval Warfare in the Age of Sail (1795-1815) by Warhammer Historical Wargames Ltd is a set of tabletop wargame rules set during the time of the Napoleonic Wars. Fleetlists are ...  "
      ],
      "text/html": "<div>\n<style scoped>\n    .dataframe tbody tr th:only-of-type {\n        vertical-align: middle;\n    }\n\n    .dataframe tbody tr th {\n        vertical-align: top;\n    }\n\n    .dataframe thead th {\n        text-align: right;\n    }\n</style>\n<table border=\"1\" class=\"dataframe\">\n  <thead>\n    <tr style=\"text-align: right;\">\n      <th></th>\n      <th>name</th>\n      <th>boardgamecategory</th>\n      <th>description</th>\n    </tr>\n  </thead>\n  <tbody>\n    <tr>\n      <th>19779</th>\n      <td>The War to End All Wars  World War 1</td>\n      <td>Dice, Economic, Educational, Wargame, World War I</td>\n      <td>The War to End All Wars is a World War I territorial strategy game. A variant of the Axis &amp;amp;amp; Allies board game system, it offers an easy to play D10 based combat system and territ...</td>\n    </tr>\n    <tr>\n      <th>4621</th>\n      <td>World at War  The Untold Stories</td>\n      <td>Modern Warfare, Wargame</td>\n      <td>World at War: The Untold Stories recounts the struggle of Warsaw Pact and NATO allies previously not covered in World at War modules. Included are the battles of the Canadians, East Germ...</td>\n    </tr>\n    <tr>\n      <th>8945</th>\n      <td>The Great Pacific War</td>\n      <td>Wargame, World War II</td>\n      <td>Description from the publisher:  Great Pacific War is Avalanche Press' strategic-level game of the War in the Pacific. The game covers the entire war from December 1941 through 1946 and ...</td>\n    </tr>\n    <tr>\n      <th>15485</th>\n      <td>Pearl Harbor</td>\n      <td>Wargame, World War II</td>\n      <td>&amp;amp;quot;The War Against Japan, 1941-1945.&amp;amp;quot;  &amp;amp;quot;A game-simulation of the Pacific and Asian theaters of World War II, at the strategic level. Simulated are the major poli...</td>\n    </tr>\n    <tr>\n      <th>13540</th>\n      <td>Twilight Squabble</td>\n      <td>Card Game, Modern Warfare, Political, Wargame</td>\n      <td>Relive the entire Cold War in ten minutes with Twilight Squabble!  In 1947, the superpowers of the United States of America and the Soviet Union began a new sort of conflict, a struggle ...</td>\n    </tr>\n    <tr>\n      <th>4414</th>\n      <td>Grand Illusion  Mirage of Glory</td>\n      <td>Wargame, World War I</td>\n      <td>The German invasion of France and Belgium in 1914, the opening campaign of World War One, is one of the most dramatic in history: the famed German Schlieffen Plan, the infamous French Pl...</td>\n    </tr>\n    <tr>\n      <th>12087</th>\n      <td>Viva Espa\\u00f1a</td>\n      <td>Civil War, Wargame</td>\n      <td>VIVA ESPA&amp;amp;Ntilde;A is a wargame,or historical simulation, that combines gaming techniques with historical data to duplicate conditions as they were at the time the actual events were...</td>\n    </tr>\n    <tr>\n      <th>5090</th>\n      <td>Empires in America (second edition)</td>\n      <td>Age of Reason, American Indian Wars, Wargame</td>\n      <td>Empires in America (EIA) is a solitaire States of Siege&amp;amp;trade; Series game of the conflict in North America between the French and British in the mid-18th century. This war, known lo...</td>\n    </tr>\n    <tr>\n      <th>8618</th>\n      <td>Patton in Flames</td>\n      <td>Wargame, World War II</td>\n      <td>It's 1945; Germany and Japan are going down in flames.  But the Western Allies and the Soviets will soon find themselves at war...  It's 1948; rising tensions between the Western Allies ...</td>\n    </tr>\n    <tr>\n      <th>10021</th>\n      <td>Trafalgar</td>\n      <td>Dice, Miniatures, Napoleonic, Nautical, Wargame</td>\n      <td>Trafalgar Naval Warfare in the Age of Sail (1795-1815) by Warhammer Historical Wargames Ltd is a set of tabletop wargame rules set during the time of the Napoleonic Wars. Fleetlists are ...</td>\n    </tr>\n  </tbody>\n</table>\n</div>"
     },
     "metadata": {},
     "execution_count": 70
    }
   ],
   "source": [
    "search_emb_3(\"I am interested in history, in particular, the history of famous wars such as world war 1 and world war 2.\")"
   ]
  }
 ]
}